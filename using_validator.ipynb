{
 "cells": [
  {
   "cell_type": "markdown",
   "metadata": {},
   "source": [
    "This notebook is for the Expectation Suite creation and validation"
   ]
  },
  {
   "cell_type": "code",
   "execution_count": null,
   "metadata": {},
   "outputs": [],
   "source": [
    "# Step 1 - Install required software\n",
    "\n",
    "!pip install -r requirements.txt"
   ]
  },
  {
   "cell_type": "code",
   "execution_count": 11,
   "metadata": {},
   "outputs": [],
   "source": [
    "# Step 2 - Imports\n",
    "\n",
    "import great_expectations as gx\n",
    "from great_expectations.data_context import FileDataContext\n",
    "from great_expectations.core.expectation_configuration import ExpectationConfiguration"
   ]
  },
  {
   "cell_type": "code",
   "execution_count": 12,
   "metadata": {},
   "outputs": [],
   "source": [
    "# Step 3 - Initiate a Filesystem Data Context\n",
    "# Note: Replace /Users/fernandoembrioni/Documents/Fer/repos/ for the path previous to this repository\n",
    "\n",
    "path_to_empty_folder = \"/Users/fernandoembrioni/Documents/Fer/repos/fer-gx-validator/filecontext\"\n",
    "context = FileDataContext.create(project_root_dir=path_to_empty_folder)"
   ]
  },
  {
   "cell_type": "code",
   "execution_count": 13,
   "metadata": {},
   "outputs": [],
   "source": [
    "# Step 4 - Create a Validator by connecting to data\n",
    "\n",
    "validator = context.sources.pandas_default.read_csv(\n",
    "    \"https://raw.githubusercontent.com/great-expectations/gx_tutorials/main/data/yellow_tripdata_sample_2019-01.csv\"\n",
    ")"
   ]
  },
  {
   "cell_type": "code",
   "execution_count": 14,
   "metadata": {},
   "outputs": [
    {
     "data": {
      "application/vnd.jupyter.widget-view+json": {
       "model_id": "ff09fbb4005f40df9fd19736ba42d016",
       "version_major": 2,
       "version_minor": 0
      },
      "text/plain": [
       "Calculating Metrics:   0%|          | 0/2 [00:00<?, ?it/s]"
      ]
     },
     "metadata": {},
     "output_type": "display_data"
    },
    {
     "data": {
      "application/vnd.jupyter.widget-view+json": {
       "model_id": "232457e721ce4efc8f4ca7e7c066ccb8",
       "version_major": 2,
       "version_minor": 0
      },
      "text/plain": [
       "Calculating Metrics:   0%|          | 0/8 [00:00<?, ?it/s]"
      ]
     },
     "metadata": {},
     "output_type": "display_data"
    },
    {
     "data": {
      "application/vnd.jupyter.widget-view+json": {
       "model_id": "485845cdd9f24b16a0505f6a5243da2b",
       "version_major": 2,
       "version_minor": 0
      },
      "text/plain": [
       "Calculating Metrics:   0%|          | 0/6 [00:00<?, ?it/s]"
      ]
     },
     "metadata": {},
     "output_type": "display_data"
    }
   ],
   "source": [
    "# Step 5 - Create Expectations and save them to the context\n",
    "\n",
    "# IMPORTANT:\n",
    "# Each expectation created is validated against the data source, and its result (success or failure)\n",
    "# is used to add the Expectation or not to the expectation suite.\n",
    "# In this case, I expect the 'rate_code_id' column values to be in set {1}. But the \n",
    "# datasource also has values of {2,3,4,5,99} for this column. It means that the\n",
    "# validation will fail and the expectation will not be added to the expectation suite.\n",
    "# How to solve this?\n",
    "# I am using the 'mostly' parameter to solve the issue, plus a further edit of the suite\n",
    "# to change it to what I need.\n",
    "\n",
    "column_list = [\n",
    "            \"vendor_id\",\n",
    "            \"pickup_datetime\",\n",
    "            \"dropoff_datetime\",\n",
    "            \"passenger_count\",\n",
    "            \"trip_distance\",\n",
    "            \"rate_code_id\",\n",
    "            \"store_and_fwd_flag\",\n",
    "            \"pickup_location_id\",\n",
    "            \"dropoff_location_id\",\n",
    "            \"payment_type\",\n",
    "            \"fare_amount\",\n",
    "            \"extra\",\n",
    "            \"mta_tax\",\n",
    "            \"tip_amount\",\n",
    "            \"tolls_amount\",\n",
    "            \"improvement_surcharge\",\n",
    "            \"total_amount\",\n",
    "            \"congestion_surcharge\",\n",
    "        ]\n",
    "\n",
    "validator.expect_table_columns_to_match_ordered_list(column_list=column_list)\n",
    "validator.expect_column_values_to_be_in_set(column='rate_code_id', value_set={1}, mostly=0.0)\n",
    "validator.expect_column_values_to_not_be_null(column='vendor_id', mostly=0.95)\n",
    "validator.save_expectation_suite()"
   ]
  },
  {
   "cell_type": "code",
   "execution_count": 15,
   "metadata": {},
   "outputs": [],
   "source": [
    "# Step 6 - Add a checkpoint\n",
    "\n",
    "checkpoint = context.add_or_update_checkpoint(\n",
    "    name=\"my_checkpoint\",\n",
    "    validator=validator,\n",
    ")"
   ]
  },
  {
   "cell_type": "code",
   "execution_count": 17,
   "metadata": {},
   "outputs": [
    {
     "data": {
      "application/vnd.jupyter.widget-view+json": {
       "model_id": "0c8ba4a5e0834ede99d6f05130dda90a",
       "version_major": 2,
       "version_minor": 0
      },
      "text/plain": [
       "Calculating Metrics:   0%|          | 0/15 [00:00<?, ?it/s]"
      ]
     },
     "metadata": {},
     "output_type": "display_data"
    }
   ],
   "source": [
    "# Step 7 - Recover checkpoint from context\n",
    "\n",
    "checkpoint = context.get_checkpoint(\"my_checkpoint\")\n",
    "result = checkpoint.run()"
   ]
  },
  {
   "cell_type": "code",
   "execution_count": 8,
   "metadata": {},
   "outputs": [],
   "source": [
    "# Step 8 - View an HTML representation of the validation results\n",
    "\n",
    "context.view_validation_result(result)"
   ]
  },
  {
   "cell_type": "markdown",
   "metadata": {},
   "source": [
    "## Step 9 - Manually edit the Suite\n",
    "\n",
    "As you may notice, all the expectations ran with 'success' status, but for the case of 'rate_code_id' there are many unexpected values in this column I would like to be treated as a failure.\n",
    "\n",
    "The way to achieve this is by changing the value of 'mostly' to 100% for that expectation.\n",
    "\n",
    "Fortunately, Great Expectations allows us to Edit the Suite...\n",
    "\n",
    "### Step 9.1 - Click on \"How to Edit This Suite\" yellow button in the HTML page\n",
    "\n",
    "Step 9.2 - Then, copy this `great_expectations suite edit default` from the popup window and paste it in your terminal (Be sure to be located at your project `filecontext` folder).\n",
    "\n",
    "Step 9.3 - Select option 1 to manually edit the Expectation Suite and hit Enter.\n",
    "\n",
    "Step 9.4 - You will be presented with a jupyter notebook named `edit_default` in your web browser. Select the `Python 3 (ipykernel)` to start editing. (In case the notebook does not open, look for the URLs given by `great_expectations` command and look for the `edit_default.ipynb` file. Tip: Look at \"Or copy and paste one of these URLs\" message to find them).\n",
    "\n",
    "Step 9.5 - Run the first and second cells of the notebook.\n",
    "\n",
    "Step 9.6 - At third cell change `\"mostly\": 0.0,` to `\"mostly\": 1.0,` and run this cell and the remaining ones.\n",
    "\n",
    "Step 9.7 - Close the `jupyter` page in your web browser."
   ]
  },
  {
   "cell_type": "code",
   "execution_count": 18,
   "metadata": {},
   "outputs": [
    {
     "data": {
      "application/vnd.jupyter.widget-view+json": {
       "model_id": "628e7025290e4d0d8009201044bf1749",
       "version_major": 2,
       "version_minor": 0
      },
      "text/plain": [
       "Calculating Metrics:   0%|          | 0/15 [00:00<?, ?it/s]"
      ]
     },
     "metadata": {},
     "output_type": "display_data"
    }
   ],
   "source": [
    "# Step 10 - Recover checkpoint from context\n",
    "\n",
    "checkpoint = context.get_checkpoint(\"my_checkpoint\")\n",
    "result = checkpoint.run()"
   ]
  },
  {
   "cell_type": "code",
   "execution_count": 19,
   "metadata": {},
   "outputs": [],
   "source": [
    "# Step 11 - View an HTML representation of the validation results\n",
    "\n",
    "context.view_validation_result(result)\n",
    "\n",
    "# Notice that now the Expectation for the 'rate_code_id' column is unsuccessful given\n",
    "# that it has unexpected values"
   ]
  }
 ],
 "metadata": {
  "kernelspec": {
   "display_name": "gxvenv",
   "language": "python",
   "name": "python3"
  },
  "language_info": {
   "codemirror_mode": {
    "name": "ipython",
    "version": 3
   },
   "file_extension": ".py",
   "mimetype": "text/x-python",
   "name": "python",
   "nbconvert_exporter": "python",
   "pygments_lexer": "ipython3",
   "version": "3.11.4"
  },
  "orig_nbformat": 4
 },
 "nbformat": 4,
 "nbformat_minor": 2
}
