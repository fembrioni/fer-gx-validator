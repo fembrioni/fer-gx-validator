{
 "cells": [
  {
   "cell_type": "markdown",
   "metadata": {},
   "source": [
    "This notebook is for the Expectation Suite creation and validation"
   ]
  },
  {
   "cell_type": "code",
   "execution_count": null,
   "metadata": {},
   "outputs": [],
   "source": [
    "# Step 1 - Install required software\n",
    "\n",
    "!pip install -r requirements.txt"
   ]
  },
  {
   "cell_type": "code",
   "execution_count": null,
   "metadata": {},
   "outputs": [],
   "source": [
    "# Step 2 - Imports\n",
    "\n",
    "import great_expectations as gx\n",
    "from great_expectations.data_context import FileDataContext\n",
    "from great_expectations.core.expectation_configuration import ExpectationConfiguration"
   ]
  },
  {
   "cell_type": "code",
   "execution_count": null,
   "metadata": {},
   "outputs": [],
   "source": [
    "# Step 3 - Initiate a Filesystem Data Context\n",
    "# Note: Replace /Users/fernandoembrioni/Documents/Fer/repos/ for the path previous to this repository\n",
    "\n",
    "path_to_empty_folder = \"/Users/fernandoembrioni/Documents/Fer/repos/fer-gx-validator/filecontext\"\n",
    "context = FileDataContext.create(project_root_dir=path_to_empty_folder)"
   ]
  },
  {
   "cell_type": "code",
   "execution_count": null,
   "metadata": {},
   "outputs": [],
   "source": [
    "# Step 4 - Create a Validator by connecting to data\n",
    "\n",
    "validator = context.sources.pandas_default.read_csv(\n",
    "    \"https://raw.githubusercontent.com/great-expectations/gx_tutorials/main/data/yellow_tripdata_sample_2019-01.csv\"\n",
    ")"
   ]
  },
  {
   "cell_type": "code",
   "execution_count": null,
   "metadata": {},
   "outputs": [],
   "source": [
    "# Step 5 - Create Expectations and save them to the context\n",
    "\n",
    "# IMPORTANT:\n",
    "# Each expectation created is validated against the data source, and its result (success or failure)\n",
    "# is used to add the Expectation or not to the expectation suite.\n",
    "# In this case, I expect the 'rate_code_id' column values to be in set {1}. But the \n",
    "# datasource also has values of {2,3,4,5,99} for this column. It means that the\n",
    "# validation will fail and the expectation will not be added to the expectation suite.\n",
    "# How to solve this?\n",
    "# Saving the Expectation Suite without discarding failed expectations.\n",
    "\n",
    "column_list = [\n",
    "            \"vendor_id\",\n",
    "            \"pickup_datetime\",\n",
    "            \"dropoff_datetime\",\n",
    "            \"passenger_count\",\n",
    "            \"trip_distance\",\n",
    "            \"rate_code_id\",\n",
    "            \"store_and_fwd_flag\",\n",
    "            \"pickup_location_id\",\n",
    "            \"dropoff_location_id\",\n",
    "            \"payment_type\",\n",
    "            \"fare_amount\",\n",
    "            \"extra\",\n",
    "            \"mta_tax\",\n",
    "            \"tip_amount\",\n",
    "            \"tolls_amount\",\n",
    "            \"improvement_surcharge\",\n",
    "            \"total_amount\",\n",
    "            \"congestion_surcharge\",\n",
    "        ]\n",
    "\n",
    "validator.expect_table_columns_to_match_ordered_list(column_list=column_list)\n",
    "validator.expect_column_values_to_be_in_set(column='rate_code_id', value_set={1}, mostly=1.0)\n",
    "validator.expect_column_values_to_not_be_null(column='vendor_id', mostly=0.95)\n",
    "validator.save_expectation_suite(discard_failed_expectations=False)"
   ]
  },
  {
   "cell_type": "code",
   "execution_count": null,
   "metadata": {},
   "outputs": [],
   "source": [
    "# Step 6 - Add a checkpoint\n",
    "\n",
    "checkpoint = context.add_or_update_checkpoint(\n",
    "    name=\"my_checkpoint\",\n",
    "    validator=validator,\n",
    ")"
   ]
  },
  {
   "cell_type": "code",
   "execution_count": null,
   "metadata": {},
   "outputs": [],
   "source": [
    "# Step 7 - Recover checkpoint from context\n",
    "\n",
    "checkpoint = context.get_checkpoint(\"my_checkpoint\")\n",
    "result = checkpoint.run()"
   ]
  },
  {
   "cell_type": "code",
   "execution_count": null,
   "metadata": {},
   "outputs": [],
   "source": [
    "# Step 8 - View an HTML representation of the validation results\n",
    "\n",
    "context.view_validation_result(result)"
   ]
  }
 ],
 "metadata": {
  "kernelspec": {
   "display_name": "gxvenv",
   "language": "python",
   "name": "python3"
  },
  "language_info": {
   "codemirror_mode": {
    "name": "ipython",
    "version": 3
   },
   "file_extension": ".py",
   "mimetype": "text/x-python",
   "name": "python",
   "nbconvert_exporter": "python",
   "pygments_lexer": "ipython3",
   "version": "3.11.4"
  },
  "orig_nbformat": 4
 },
 "nbformat": 4,
 "nbformat_minor": 2
}
